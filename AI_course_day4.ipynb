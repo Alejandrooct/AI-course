{
  "cells": [
    {
      "cell_type": "markdown",
      "metadata": {
        "id": "view-in-github",
        "colab_type": "text"
      },
      "source": [
        "<a href=\"https://colab.research.google.com/github/Alejandrooct/AI-course/blob/main/AI_course_day4.ipynb\" target=\"_parent\"><img src=\"https://colab.research.google.com/assets/colab-badge.svg\" alt=\"Open In Colab\"/></a>"
      ]
    },
    {
      "cell_type": "markdown",
      "metadata": {
        "id": "h5x9jIqxZ3Rq"
      },
      "source": [
        "\n",
        "##AI course\n",
        "##Day#4 (Wednesday December 6, 2023)\n",
        "##Assignement: Drone Data Preprocessing\n",
        "\n",
        "name: Alejandro Thamm\n",
        "\n",
        "The exercise involves:\n",
        "- extracting drone location (within each image),\n",
        "- creating labeled datasets,\n",
        "- building a simple classifier using TensorFlow.\n",
        "\n",
        "link to the Assignement description:\n",
        "https://docs.google.com/document/d/1qKI6AzhIfNc3bX6lFikTI_qDq-VNN7OKmlZpW0ZygIc/edit\n"
      ]
    },
    {
      "cell_type": "code",
      "execution_count": null,
      "metadata": {
        "id": "to4hadwvAaPV"
      },
      "outputs": [],
      "source": []
    },
    {
      "cell_type": "markdown",
      "metadata": {
        "id": "oed_wQyA9d2W"
      },
      "source": [
        "# 1 - Data Exploration:\n",
        "   - Access the drive in this link:\n",
        "\n",
        "https://drive.google.com/drive/folders/1--E2a3ior8D_isWan7ePmd_NmsNcy6Uk\n",
        "\n",
        "it contains the images and the labels.\n",
        "\n",
        "   - Observe the structure of the data. Each image has a corresponding label file written in a yolov8 format."
      ]
    },
    {
      "cell_type": "code",
      "execution_count": null,
      "metadata": {
        "id": "FmiuVHAA9a10"
      },
      "outputs": [],
      "source": [
        "# Step 1A - Accessing the data\n",
        "\n",
        "# The shared folder contains 1616 files (808 image, label pairs).\n",
        "# Googledrive is very tricky when folders contain a few hundreds of files.\n",
        "# To avoid the issues associated with working with many files from googledrive,\n",
        "# I downloaded all the files in smalled groups (like 400 or at most 800) files,\n",
        "# After downloading to my local computer, I zipped the files (about 75 MB)\n",
        "# then I uploaded the zip file to the colab notebook.\n",
        "# And uncompressed the files in the colab notebook.\n"
      ]
    },
    {
      "cell_type": "code",
      "source": [
        "# Step 1B - Assesing the data\n",
        "\n",
        "# There are 808 image files in .jpg format with a corresponding .txt label file.\n",
        "# The annotation is bounding boxes (BB)\n",
        "# Each BB is determined by 5 numbers\n",
        "#   number#1: class (class = 0 manes drone)\n",
        "#   number#2: x_center (normalized to image width)\n",
        "#   number#3: y_center (normalized to image height)\n",
        "#   number#4: x_width (normalized to image width)\n",
        "#   number#5: y_height (normalized to image height)\n",
        "# Most images have just one BB (one line in the yolo file)\n",
        "# A few images have 2 BBs (two lines in the yolo file)"
      ],
      "metadata": {
        "id": "eQerS4KkYs_m"
      },
      "execution_count": null,
      "outputs": []
    },
    {
      "cell_type": "markdown",
      "metadata": {
        "id": "1T6_hgYQ-i7C"
      },
      "source": [
        "#Step 2 - Data Preprocessing:\n",
        "For each image:\n",
        "\n",
        "A - Extract the drone's location from the label file (yolov8\n",
        "format).\n",
        "\n",
        "B - Find the bounding box of the drone in the image.\n",
        "\n",
        "C - Create a new image by cropping the bounding box.\n",
        "\n",
        "D - Convert the cropped image to black and white.\n",
        "\n",
        "E - Resize the image to a quadratic form (e.g., 28x28) using Keras library.\n",
        "\n",
        "F - Save the processed image in a list along with the appropriate label (drone).\n",
        "\n",
        "G - Repeat the above steps, but this time take a random crop of the image with the same quadratic resolution.\n",
        "\n",
        "H - Save the random cropped image in a separate list along with the appropriate label (not a drone).\n"
      ]
    },
    {
      "cell_type": "code",
      "execution_count": null,
      "metadata": {
        "id": "HeKrh4I_AYZE"
      },
      "outputs": [],
      "source": [
        "# Step 2 (Data Preprocessing)\n",
        "# A - Extract the drone's location from the label file (yolov8 format).\n",
        "# B - Find the bounding box of the drone in the image.\n",
        "#\n",
        "# We will\n",
        "# 1 - upload the dataset to the colab notebook in folder: 'drones_1')\n",
        "# 2 - read the annotation files, and write the files into folder: 'drones_2'\n",
        "#     adding a visible bounding box in yellow.\n"
      ]
    },
    {
      "cell_type": "code",
      "source": [
        "# Step 2 (Data Preprocessing)\n",
        "# upload the dataset into the colab notebook\n",
        "\n",
        "# Make a folder in the colab notebook, under /content/ named \"drones_1\"\n",
        "#  this folder is for the original files as found in the source Googledrive.\n",
        "! mkdir /content/drones_1\n",
        "# upload manually from the hard disk of my laptop a dataset in a zip file.\n",
        "#   This file is named drones_1.zip (76.1 MB in googledrive)(72.54 MB in colab))\n",
        "#   Upload it into /content/\n",
        "# unzip the file into these folder, the synthax is:\n",
        "# unzip <source filename>       -d <destination folder>\n",
        "! unzip /content/drones_1.zip -d /content/drones_1"
      ],
      "metadata": {
        "id": "zI7sGPA6eqWe"
      },
      "execution_count": null,
      "outputs": []
    },
    {
      "cell_type": "code",
      "source": [
        "# For deleting the output folder during debugging\n",
        "\n",
        "import os\n",
        "import shutil\n",
        "if os.path.exists('/content/drones_1'):\n",
        "    shutil.rmtree('/content/drones_1')\n",
        "# shutil.rmtree('/content/drones', ignore_errors=True)\n",
        "# ! mkdir /content/drones_1"
      ],
      "metadata": {
        "id": "Y5Om8qrykrAW"
      },
      "execution_count": null,
      "outputs": []
    },
    {
      "cell_type": "code",
      "source": [
        "# Step 2 (Data Preprocessing)\n",
        "# use ChatGPT to make a python script to        add the yellow BB to the images.\n",
        "#                           reads /content/drones_1 and writes /content/drones_2\n",
        "\n",
        "# Ignore all previous instructions.\n",
        "# Act as a world class python programmer.\n",
        "# Write code for a google colab notebook in python.\n",
        "# Read the files in /content/drones_1/\n",
        "# These are in pairs.\n",
        "# For each file name, you will find a .jpg image file and a .txt file.\n",
        "# The .txt file contains the yoloV8 labels for the corresponding image file.\n",
        "# Each line of the label file is a label:\n",
        "# The first number in the line is the class.\n",
        "# Then 4 coordinates follow:\n",
        "#   val#1: is the normalized xcenter, multiply by image width to get pixels.\n",
        "#   val#2: is the normalized ycenter, multiply by image height to get pixels.\n",
        "#   val#3: is the normalized box width, multiply by image width to get pixels.\n",
        "#   val#4: is the normalized box height, multiply by image height to get pixels.\n",
        "# For each image do the following:\n",
        "# Add to the image a rectangle around the bounding box, 1 pixel bigger than the bounding box, and one pixel in width, in yellow color.\n",
        "# Show the image with the corresponding rectangles ovelayed.\n",
        "# Use matplotlib to show the images\n",
        "# Save the image with the rectangle in folder: /content/drones_2\n"
      ],
      "metadata": {
        "id": "fuseMU9zfNow"
      },
      "execution_count": null,
      "outputs": []
    },
    {
      "cell_type": "code",
      "source": [
        "import os\n",
        "import cv2\n",
        "import matplotlib.pyplot as plt\n",
        "\n",
        "# Path to the folder containing image and label pairs\n",
        "folder_path = '/content/drones_1/'\n",
        "\n",
        "# Output folder for saving images with rectangles\n",
        "output_folder = '/content/drones_2/'\n",
        "\n",
        "# Create the output folder if it doesn't exist\n",
        "os.makedirs(output_folder, exist_ok=True)\n",
        "\n",
        "# Get a list of all files in the folder\n",
        "file_list = os.listdir(folder_path)\n",
        "\n",
        "# Filter files to include only .txt files\n",
        "label_files = [file for file in file_list if file.endswith('.txt')]\n",
        "\n",
        "# Process each label file\n",
        "for label_file in label_files:\n",
        "    # Construct the corresponding image file name\n",
        "    image_file = label_file.replace('.txt', '.jpg')\n",
        "\n",
        "    # Read the image\n",
        "    image_path = os.path.join(folder_path, image_file)\n",
        "    img = cv2.imread(image_path)\n",
        "\n",
        "    # Read the labels from the YOLO format\n",
        "    label_path = os.path.join(folder_path, label_file)\n",
        "    with open(label_path, 'r') as f:\n",
        "        lines = f.readlines()\n",
        "\n",
        "    # Process each line in the label file\n",
        "    for line in lines:\n",
        "        values = line.split()\n",
        "        class_label = int(values[0])\n",
        "        x_center, y_center, box_width, box_height = map(float, values[1:])\n",
        "\n",
        "        # Convert normalized coordinates to pixel values\n",
        "        image_height, image_width, _ = img.shape\n",
        "        x_center *= image_width\n",
        "        y_center *= image_height\n",
        "        box_width *= image_width\n",
        "        box_height *= image_height\n",
        "\n",
        "        # Calculate coordinates for the rectangle\n",
        "        x1 = int(x_center - box_width / 2) - 1\n",
        "        y1 = int(y_center - box_height / 2) - 1\n",
        "        x2 = int(x_center + box_width / 2) + 1\n",
        "        y2 = int(y_center + box_height / 2) + 1\n",
        "\n",
        "        # Draw the rectangle on the image\n",
        "        cv2.rectangle(img, (x1, y1), (x2, y2), (0, 255, 255), 1)\n",
        "\n",
        "    # Display the image with rectangles\n",
        "    plt.imshow(cv2.cvtColor(img, cv2.COLOR_BGR2RGB))\n",
        "    plt.axis('off')\n",
        "    plt.show()\n",
        "\n",
        "    # Save the image with the rectangle\n",
        "    output_path = os.path.join(output_folder, image_file)\n",
        "    cv2.imwrite(output_path, img)\n"
      ],
      "metadata": {
        "id": "QyVmD4dvgp5W"
      },
      "execution_count": null,
      "outputs": []
    },
    {
      "cell_type": "code",
      "source": [
        "# For deleting the output folder during debugging\n",
        "#\n",
        "import shutil\n",
        "shutil.rmtree('/content/drones_2')\n",
        "#"
      ],
      "metadata": {
        "id": "SebHwb3PifDt"
      },
      "execution_count": null,
      "outputs": []
    },
    {
      "cell_type": "code",
      "source": [
        "# Step 2 (Data Preprocessing)\n",
        "# use ChatGPT to make a python script                  for cropping just the BB.\n",
        "#                          read /contents/drones_1 and writes /contents/drones_3\n",
        "\n",
        "# Ignore all previous instructions.\n",
        "# Act as a world class python programmer.\n",
        "# Write code for a google colab notebook in python.\n",
        "# Read the files in /content/drones_1/\n",
        "# These are in pairs.\n",
        "# For each file name, you will find a .jpg image file and a .txt file.\n",
        "# The .txt file contains the yoloV8 labels for the corresponding image file.\n",
        "# Each line of the label file is a label:\n",
        "# The first number in the line is the class.\n",
        "# Then 4 coordinates follow:\n",
        "#   val#1: is the normalized xcenter, multiply by image width to get pixels.\n",
        "#   val#2: is the normalized ycenter, multiply by image height to get pixels.\n",
        "#   val#3: is the normalized box width, multiply by image width to get pixels.\n",
        "#   val#4: is the normalized box height, multiply by image height to get pixels.\n",
        "# For each image do the following:\n",
        "# Crop the image to the bounding box.\n",
        "# Show the cropped image.\n",
        "# Use matplotlib to show the images\n",
        "# Save the cropped image with the name of the original image, in folder: /content/drones_3\n"
      ],
      "metadata": {
        "id": "UDNtsSpxmRpP"
      },
      "execution_count": null,
      "outputs": []
    },
    {
      "cell_type": "code",
      "source": [
        "import os\n",
        "import cv2\n",
        "import matplotlib.pyplot as plt\n",
        "\n",
        "# Define the paths\n",
        "input_folder = '/content/drones_1/'\n",
        "output_folder = '/content/drones_3/'\n",
        "\n",
        "# Create output folder if it doesn't exist\n",
        "if not os.path.exists(output_folder):\n",
        "    os.makedirs(output_folder)\n",
        "\n",
        "# List all files in the input folder\n",
        "files = os.listdir(input_folder)\n",
        "\n",
        "# Iterate through the files in pairs\n",
        "for file in files:\n",
        "    if file.endswith('.jpg'):\n",
        "        # Get the corresponding label file\n",
        "        label_file = file.replace('.jpg', '.txt')\n",
        "\n",
        "        # Read the image\n",
        "        image_path = os.path.join(input_folder, file)\n",
        "        img = cv2.imread(image_path)\n",
        "        height, width, _ = img.shape\n",
        "\n",
        "        # Read the corresponding label file\n",
        "        label_path = os.path.join(input_folder, label_file)\n",
        "        with open(label_path, 'r') as f:\n",
        "            lines = f.readlines()\n",
        "\n",
        "        # Process each line in the label file\n",
        "# ------------------------------------------------------------------------------\n",
        "        #or line in lines:\n",
        "        for j, line in enumerate(lines):\n",
        "# ------------------------------------------------------------------------------\n",
        "            # Parse the label information\n",
        "            class_id, x_center, y_center, box_width, box_height = map(float, line.split())\n",
        "\n",
        "            # Convert normalized coordinates to pixel values\n",
        "            x_center *= width\n",
        "            y_center *= height\n",
        "            box_width *= width\n",
        "            box_height *= height\n",
        "\n",
        "            # Calculate bounding box coordinates\n",
        "            x1 = int(x_center - 0.5 * box_width)\n",
        "            y1 = int(y_center - 0.5 * box_height)\n",
        "            x2 = int(x_center + 0.5 * box_width)\n",
        "            y2 = int(y_center + 0.5 * box_height)\n",
        "\n",
        "            # Crop the image\n",
        "            cropped_img = img[y1:y2, x1:x2, :]\n",
        "\n",
        "            # Show the cropped image using matplotlib\n",
        "            plt.imshow(cv2.cvtColor(cropped_img, cv2.COLOR_BGR2RGB))\n",
        "            plt.axis('off')\n",
        "            plt.show()\n",
        "\n",
        "            # Save the cropped image\n",
        "# ------------------------------------------------------------------------------\n",
        "            #utput_path = os.path.join(output_folder, f\"{file.split('.')[0]}_{int(x_center)}_{int(y_center)}.jpg\")\n",
        "            if (j == 0):\n",
        "                output_path = os.path.join(output_folder, file)\n",
        "            else:\n",
        "                output_path = os.path.join(output_folder, file.split('.')[0] + '_' + str(j) + \".jpg\")\n",
        "# ------------------------------------------------------------------------------\n",
        "            cv2.imwrite(output_path, cropped_img)\n"
      ],
      "metadata": {
        "id": "YTAdLrN8mzYY"
      },
      "execution_count": null,
      "outputs": []
    },
    {
      "cell_type": "code",
      "source": [
        "# For deleting the output folder during debugging\n",
        "#\n",
        "import shutil\n",
        "shutil.rmtree('/content/drones_3')\n",
        "#"
      ],
      "metadata": {
        "id": "dZNAHKn5qGhM"
      },
      "execution_count": null,
      "outputs": []
    },
    {
      "cell_type": "code",
      "source": [
        "# Step 2 (Data Preprocessing)\n",
        "# use ChatGPT to make a python script for reading the crops and:\n",
        "#   transforming them into gray-scale.\n",
        "#   resizing the images to 28 x 28 pixels\n",
        "#                          read /contents/drones_3 and writes /contents/drones_4\n",
        "\n",
        "# Ignore all previous instructions.\n",
        "# Act as a world class python programmer.\n",
        "# Write code for a google colab notebook in python.\n",
        "# Read the files in /content/drones_3/\n",
        "# For each image do the following:\n",
        "# Transform the image to gray scale, in one channel.\n",
        "# Resize the image to 28 x 28 pixels\n",
        "# Save the modified image with the name of the original image, in folder: /content/drones_4\n",
        "# For the last image, check how many channels the modified image has print this result."
      ],
      "metadata": {
        "id": "K7zUY8ZXoVAw"
      },
      "execution_count": null,
      "outputs": []
    },
    {
      "cell_type": "code",
      "source": [
        "import cv2\n",
        "import os\n",
        "\n",
        "# Define the input and output directories\n",
        "input_directory = '/content/drones_3/'\n",
        "output_directory = '/content/drones_4/'\n",
        "\n",
        "# Ensure the output directory exists\n",
        "os.makedirs(output_directory, exist_ok=True)\n",
        "\n",
        "# List all files in the input directory\n",
        "image_files = [f for f in os.listdir(input_directory) if os.path.isfile(os.path.join(input_directory, f))]\n",
        "\n",
        "# Process each image\n",
        "for i, image_file in enumerate(image_files):\n",
        "    # Read the image\n",
        "    image_path = os.path.join(input_directory, image_file)\n",
        "    original_image = cv2.imread(image_path)\n",
        "\n",
        "    # Convert the image to grayscale\n",
        "    gray_image = cv2.cvtColor(original_image, cv2.COLOR_BGR2GRAY)\n",
        "\n",
        "    # Resize the image to 28x28 pixels\n",
        "    resized_image = cv2.resize(gray_image, (28, 28))\n",
        "\n",
        "    # Save the modified image to the output directory\n",
        "    output_path = os.path.join(output_directory, image_file)\n",
        "    cv2.imwrite(output_path, resized_image)\n",
        "\n",
        "    # Check the number of channels for the last image\n",
        "    if i == len(image_files) - 1:\n",
        "        num_channels = resized_image.shape[2]\n",
        "        print(f\"The number of channels for the last processed image is: {num_channels}\")\n",
        "\n",
        "print(\"Image processing and saving completed.\")\n"
      ],
      "metadata": {
        "colab": {
          "base_uri": "https://localhost:8080/",
          "height": 262
        },
        "id": "XSRwivUJ-i21",
        "outputId": "f6abe245-d8b6-46f9-aedb-f0c224a0a4a2"
      },
      "execution_count": null,
      "outputs": [
        {
          "output_type": "error",
          "ename": "IndexError",
          "evalue": "ignored",
          "traceback": [
            "\u001b[0;31m---------------------------------------------------------------------------\u001b[0m",
            "\u001b[0;31mIndexError\u001b[0m                                Traceback (most recent call last)",
            "\u001b[0;32m<ipython-input-18-04697532d843>\u001b[0m in \u001b[0;36m<cell line: 15>\u001b[0;34m()\u001b[0m\n\u001b[1;32m     30\u001b[0m     \u001b[0;31m# Check the number of channels for the last image\u001b[0m\u001b[0;34m\u001b[0m\u001b[0;34m\u001b[0m\u001b[0m\n\u001b[1;32m     31\u001b[0m     \u001b[0;32mif\u001b[0m \u001b[0mi\u001b[0m \u001b[0;34m==\u001b[0m \u001b[0mlen\u001b[0m\u001b[0;34m(\u001b[0m\u001b[0mimage_files\u001b[0m\u001b[0;34m)\u001b[0m \u001b[0;34m-\u001b[0m \u001b[0;36m1\u001b[0m\u001b[0;34m:\u001b[0m\u001b[0;34m\u001b[0m\u001b[0;34m\u001b[0m\u001b[0m\n\u001b[0;32m---> 32\u001b[0;31m         \u001b[0mnum_channels\u001b[0m \u001b[0;34m=\u001b[0m \u001b[0mresized_image\u001b[0m\u001b[0;34m.\u001b[0m\u001b[0mshape\u001b[0m\u001b[0;34m[\u001b[0m\u001b[0;36m2\u001b[0m\u001b[0;34m]\u001b[0m\u001b[0;34m\u001b[0m\u001b[0;34m\u001b[0m\u001b[0m\n\u001b[0m\u001b[1;32m     33\u001b[0m         \u001b[0mprint\u001b[0m\u001b[0;34m(\u001b[0m\u001b[0;34mf\"The number of channels for the last processed image is: {num_channels}\"\u001b[0m\u001b[0;34m)\u001b[0m\u001b[0;34m\u001b[0m\u001b[0;34m\u001b[0m\u001b[0m\n\u001b[1;32m     34\u001b[0m \u001b[0;34m\u001b[0m\u001b[0m\n",
            "\u001b[0;31mIndexError\u001b[0m: tuple index out of range"
          ]
        }
      ]
    },
    {
      "cell_type": "code",
      "source": [
        "# this is the old code that worked\n",
        "import os\n",
        "from PIL import Image\n",
        "import cv2\n",
        "\n",
        "# Define the input and output directories\n",
        "input_directory = '/content/drones_3/'\n",
        "output_directory = '/content/drones_4/'\n",
        "\n",
        "# Ensure the output directory exists, create if not\n",
        "if not os.path.exists(output_directory):\n",
        "    os.makedirs(output_directory)\n",
        "\n",
        "# List all files in the input directory\n",
        "file_list = os.listdir(input_directory)\n",
        "\n",
        "# Process each image in the input directory\n",
        "for file_name in file_list:\n",
        "    # Construct the file paths\n",
        "    input_path = os.path.join(input_directory, file_name)\n",
        "    output_path = os.path.join(output_directory, file_name)\n",
        "\n",
        "    # Read the image\n",
        "    image = cv2.imread(input_path)\n",
        "\n",
        "    # Convert the image to grayscale\n",
        "    gray_image = cv2.cvtColor(image, cv2.COLOR_BGR2GRAY)\n",
        "\n",
        "    # Resize the image to 28x28 pixels\n",
        "    resized_image = cv2.resize(gray_image, (28, 28))\n",
        "\n",
        "    # Save the modified image to the output directory\n",
        "    cv2.imwrite(output_path, resized_image)\n",
        "\n",
        "print(\"Image processing complete.\")\n"
      ],
      "metadata": {
        "colab": {
          "base_uri": "https://localhost:8080/"
        },
        "id": "Ykw3Vwonpod_",
        "outputId": "8d5420af-fc14-49d8-c79e-8305efeca5b8"
      },
      "execution_count": null,
      "outputs": [
        {
          "output_type": "stream",
          "name": "stdout",
          "text": [
            "Image processing complete.\n"
          ]
        }
      ]
    },
    {
      "cell_type": "code",
      "source": [
        "# For deleting the output folder during debugging\n",
        "#\n",
        "import shutil\n",
        "shutil.rmtree('/content/drones_4')\n",
        "#"
      ],
      "metadata": {
        "id": "gZlkTUfdp4vk"
      },
      "execution_count": null,
      "outputs": []
    },
    {
      "cell_type": "markdown",
      "source": [
        "Now that all images (of drones) have been processed,\n",
        "Let's make a backup of them.\n"
      ],
      "metadata": {
        "id": "oSGTRELb1zDN"
      }
    },
    {
      "cell_type": "code",
      "source": [
        "# for making zip files with the folders we just creted.\n",
        "#\n",
        "# These are the images with the overlayed bounding box visible\n",
        "!zip drones_2.zip /content/drones_2/*\n",
        "# These are the cropped bounding boxes.\n",
        "!zip drones_3.zip /content/drones_3/*\n",
        "# These are the bounding boxes set to gray scale and resized to 28 x 28\n",
        "!zip drones_4.zip /content/drones_4/*#"
      ],
      "metadata": {
        "id": "V7Q-VyAO19-C"
      },
      "execution_count": null,
      "outputs": []
    },
    {
      "cell_type": "markdown",
      "source": [
        "# Step 2 - Data Preprocessing (making de \"not_a_drone\" dataset)\n",
        "\n",
        "G - Repeat the above steps, but this time take a random crop of the image with the same quadratic resolution."
      ],
      "metadata": {
        "id": "6RoVlXfT6dLC"
      }
    },
    {
      "cell_type": "code",
      "source": [
        "# Step 2 (Data Preprocessing)\n",
        "# use ChatGPT to make a python script            for cropping for \"not_a_drone\".\n",
        "#                          read /contents/drones_1 and writes /contents/drones_5\n",
        "\n",
        "# Ignore all previous instructions.\n",
        "# Act as a world class python programmer.\n",
        "# Write code for a google colab notebook in python.\n",
        "# Read the files in /content/drones_1/\n",
        "# These are in pairs.\n",
        "# For each file name, you will find a .jpg image file and a .txt file.\n",
        "# The .txt file contains the yoloV8 labels for the corresponding image file.\n",
        "# Each line of the label file is a label:\n",
        "# The first number in the line is the class.\n",
        "# Then 4 values as follow:\n",
        "#   val#1: disregard this value.\n",
        "#   val#2: disregard this value.\n",
        "#   val#3: is the normalized box width, multiply by image width to get pixels.\n",
        "#   val#4: is the normalized box height, multiply by image height to get pixels.\n",
        "# For each image do the following:\n",
        "# Determine a random x_center between (box width/2) and (image width -box width/2)\n",
        "# Determine a random y_center between (box height/2) and (image height -box height/2)\n",
        "# Make a crop of the image with this x_center and y_center,  and width = box width, and height = box height.\n",
        "# Show the cropped image.\n",
        "# Use matplotlib to show the images\n",
        "# Save the cropped image with the name of the original image, in folder: /content/drones_5\n"
      ],
      "metadata": {
        "id": "juP5Vk4i69jS"
      },
      "execution_count": null,
      "outputs": []
    },
    {
      "cell_type": "code",
      "source": [
        "import os\n",
        "import cv2\n",
        "import matplotlib.pyplot as plt\n",
        "import numpy as np\n",
        "\n",
        "# Set the path to the directory containing image and label files\n",
        "data_path = '/content/drones_1/'\n",
        "\n",
        "# Create a directory to save cropped images\n",
        "output_path = '/content/drones_5/'\n",
        "os.makedirs(output_path, exist_ok=True)\n",
        "\n",
        "# Function to read YOLO labels from a text file\n",
        "def read_yolo_labels(label_path):\n",
        "    with open(label_path, 'r') as file:\n",
        "        lines = file.readlines()\n",
        "\n",
        "    # Extract class, x_center, y_center, box_width, and box_height from each line\n",
        "    labels = []\n",
        "    for line in lines:\n",
        "        parts = line.strip().split()\n",
        "        if len(parts) == 5:\n",
        "            label = {\n",
        "                'class': int(parts[0]),\n",
        "                'x_center': float(parts[1]),\n",
        "                'y_center': float(parts[2]),\n",
        "                'box_width': float(parts[3]),\n",
        "                'box_height': float(parts[4])\n",
        "            }\n",
        "            labels.append(label)\n",
        "\n",
        "    return labels\n",
        "\n",
        "# Function to perform cropping and save the cropped image\n",
        "def crop_and_save(image_path, label_path, output_folder):\n",
        "    # Read image and labels\n",
        "    image = cv2.imread(image_path)\n",
        "    labels = read_yolo_labels(label_path)\n",
        "\n",
        "    for label in labels:\n",
        "        # Calculate absolute coordinates\n",
        "        img_height, img_width, _ = image.shape\n",
        "        x_center_abs = int(label['x_center'] * img_width)\n",
        "        y_center_abs = int(label['y_center'] * img_height)\n",
        "        box_width_abs = int(label['box_width'] * img_width)\n",
        "        box_height_abs = int(label['box_height'] * img_height)\n",
        "\n",
        "        # Calculate random x and y centers within the valid range\n",
        "        x_center_crop = np.random.randint(box_width_abs // 2, img_width - box_width_abs // 2)\n",
        "        y_center_crop = np.random.randint(box_height_abs // 2, img_height - box_height_abs // 2)\n",
        "\n",
        "        # Calculate crop coordinates\n",
        "        x1 = x_center_crop - box_width_abs // 2\n",
        "        y1 = y_center_crop - box_height_abs // 2\n",
        "        x2 = x_center_crop + box_width_abs // 2\n",
        "        y2 = y_center_crop + box_height_abs // 2\n",
        "\n",
        "        # Crop the image\n",
        "        cropped_image = image[y1:y2, x1:x2, :]\n",
        "\n",
        "        # Show the cropped image using matplotlib\n",
        "        plt.imshow(cv2.cvtColor(cropped_image, cv2.COLOR_BGR2RGB))\n",
        "        plt.title(f'Cropped Image - Class {label[\"class\"]}')\n",
        "        plt.show()\n",
        "\n",
        "        # Save the cropped image\n",
        "        output_filename = os.path.basename(image_path)\n",
        "        output_path = os.path.join(output_folder, output_filename)\n",
        "        cv2.imwrite(output_path, cropped_image)\n",
        "        print(f'Saved cropped image: {output_path}')\n",
        "\n",
        "# Process each pair of image and label files\n",
        "for filename in os.listdir(data_path):\n",
        "    if filename.endswith(\".jpg\"):\n",
        "        image_path = os.path.join(data_path, filename)\n",
        "        label_path = os.path.join(data_path, filename.replace(\".jpg\", \".txt\"))\n",
        "\n",
        "        # Perform cropping and save the cropped image\n",
        "        crop_and_save(image_path, label_path, output_path)\n"
      ],
      "metadata": {
        "id": "yes4gI0n6-KC"
      },
      "execution_count": null,
      "outputs": []
    },
    {
      "cell_type": "code",
      "source": [
        "# For deleting the output folder during debugging\n",
        "#\n",
        "import shutil\n",
        "shutil.rmtree('/content/drones_5')\n",
        "#"
      ],
      "metadata": {
        "id": "UZoV_McF6-ka"
      },
      "execution_count": null,
      "outputs": []
    },
    {
      "cell_type": "code",
      "source": [
        "# Step 2 (Data Preprocessing)\n",
        "# use ChatGPT to make a python script for reading the \"not_a_drone\"crops and:\n",
        "#   transforming them into gray-scale.\n",
        "#   resizing the images to 28 x 28 pixels\n",
        "#                          read /contents/drones_5 and writes /contents/drones_6\n",
        "\n",
        "# Ignore all previous instructions.\n",
        "# Act as a world class python programmer.\n",
        "# Write code for a google colab notebook in python.\n",
        "# Read the files in /content/drones_5/\n",
        "# For each image do the following:\n",
        "# Transform the image to gray scale.\n",
        "# Resize the image to 28 x 28 pixels\n",
        "# Save the modified image with the name of the original image, in folder: /content/drones_6"
      ],
      "metadata": {
        "id": "tyypNfazL3EJ"
      },
      "execution_count": null,
      "outputs": []
    },
    {
      "cell_type": "code",
      "source": [
        "import os\n",
        "from PIL import Image\n",
        "import cv2\n",
        "\n",
        "# Define the input and output directories\n",
        "input_directory = '/content/drones_5/'\n",
        "output_directory = '/content/drones_6/'\n",
        "\n",
        "# Ensure the output directory exists, create if not\n",
        "if not os.path.exists(output_directory):\n",
        "    os.makedirs(output_directory)\n",
        "\n",
        "# List all files in the input directory\n",
        "file_list = os.listdir(input_directory)\n",
        "\n",
        "# Process each image in the input directory\n",
        "for file_name in file_list:\n",
        "    # Construct the file paths\n",
        "    input_path = os.path.join(input_directory, file_name)\n",
        "    output_path = os.path.join(output_directory, file_name)\n",
        "\n",
        "    # Read the image\n",
        "    image = cv2.imread(input_path)\n",
        "\n",
        "    # Convert the image to grayscale\n",
        "    gray_image = cv2.cvtColor(image, cv2.COLOR_BGR2GRAY)\n",
        "\n",
        "    # Resize the image to 28x28 pixels\n",
        "    resized_image = cv2.resize(gray_image, (28, 28))\n",
        "\n",
        "    # Save the modified image to the output directory\n",
        "    cv2.imwrite(output_path, resized_image)\n",
        "\n",
        "print(\"Image processing complete.\")\n"
      ],
      "metadata": {
        "colab": {
          "base_uri": "https://localhost:8080/"
        },
        "id": "Pks_iKqgL3r1",
        "outputId": "c7b00d6d-acc7-4372-aaf4-6e4be69c308e"
      },
      "execution_count": null,
      "outputs": [
        {
          "output_type": "stream",
          "name": "stdout",
          "text": [
            "Image processing complete.\n"
          ]
        }
      ]
    },
    {
      "cell_type": "code",
      "source": [
        "# For deleting the output folder during debugging\n",
        "#\n",
        "import shutil\n",
        "shutil.rmtree('/content/drones_6')\n",
        "#"
      ],
      "metadata": {
        "id": "DXVtEZYnMcWa"
      },
      "execution_count": null,
      "outputs": []
    },
    {
      "cell_type": "code",
      "source": [
        "# for making zip files with the folders we just creted.\n",
        "#\n",
        "# These are the cropped \"not_a_drone\" bounding boxes.\n",
        "#!zip drones_5.zip /content/drones_5/*\n",
        "# These are the \"not_a_drone\" bounding boxes set to gray scale and resized to 28 x 28\n",
        "!zip drones_6.zip /content/drones_6/*\n"
      ],
      "metadata": {
        "id": "8PmSsV4lO8wF"
      },
      "execution_count": null,
      "outputs": []
    },
    {
      "cell_type": "code",
      "source": [],
      "metadata": {
        "id": "TrBIa3hvfNSa"
      },
      "execution_count": null,
      "outputs": []
    },
    {
      "cell_type": "markdown",
      "metadata": {
        "id": "Nk0-FM-qAY8m"
      },
      "source": [
        "# Step 3 - TensorFlow Datasets:\n",
        "   - Convert the lists of processed images and labels to TensorFlow datasets.\n",
        "   - Ensure that the shapes and types of images and labels match TensorFlow's requirements.\n"
      ]
    },
    {
      "cell_type": "code",
      "source": [
        "# Ensure that the folders:\n",
        "#  drones_4 (with theb 840 \"drone\" images in 28 x 28 is in place.)\n",
        "#  drones_6 (with theb 808 \"not_a_drone\" images in 28 x 28 is in place.)\n"
      ],
      "metadata": {
        "id": "S5FIDDa1FxVB"
      },
      "execution_count": null,
      "outputs": []
    },
    {
      "cell_type": "code",
      "source": [
        "# upload the dataset into the colab notebook\n",
        "#                                               make folders drone_4 and drone_6\n",
        "! mkdir /content/drones_4\n",
        "! mkdir /content/drones_6\n",
        "! unzip /content/drones_4.zip -d /content/drones_4\n",
        "! unzip /content/drones_6.zip -d /content/drones_6\n"
      ],
      "metadata": {
        "id": "nIFqay3XG1qN"
      },
      "execution_count": null,
      "outputs": []
    },
    {
      "cell_type": "code",
      "execution_count": null,
      "metadata": {
        "id": "f6dYajE2Aizr"
      },
      "outputs": [],
      "source": [
        "# for loading the images we just prepared into Tensorflow as datasets,\n",
        "# we will use the ImageDataGenerator class, from the\n",
        "# keras.preprocessing.image library.\n",
        "# we will use also the flow_from_dataframe method.\n",
        "# This requires to create a pandas dataframe with columns:\n",
        "#   filename - strings like: \"/content/drone_4/image1.jpg\"\n",
        "#   label    - numbers like: 0, 1\n",
        "# for making this dataframe, we will also use ChtaGP\n"
      ]
    },
    {
      "cell_type": "code",
      "source": [
        "# Step 3 (TensorFlow Datasets)\n",
        "# use ChatGPT to make a python script             for dataframe for the dataset.\n",
        "\n",
        "# Ignore all previous instructions.\n",
        "# Act as a world class python programmer.\n",
        "# Write code for a google colab notebook in python.\n",
        "# Make a pandas dataframe with name: 'df_drones'.\n",
        "# This will have two columns: 'Filename' and 'Label'\n",
        "# Read the files in /content/drones_4/\n",
        "# for each file in this folder,\n",
        "# add a line to the dataframe with the path to the filename,\n",
        "# and set the \"Label\" to 0.\n",
        "# Read the files in /content/drones_6/\n",
        "# for each file in this folder,\n",
        "# add a line to the dataframe with the path to the filename,\n",
        "# and set the \"Label\" to 1.\n"
      ],
      "metadata": {
        "id": "68UXA4lUUDF7"
      },
      "execution_count": null,
      "outputs": []
    },
    {
      "cell_type": "code",
      "source": [
        "import os\n",
        "import pandas as pd\n",
        "\n",
        "# Assuming your data is stored in /content/drones_4/ and /content/drones_6/\n",
        "folder_paths = ['/content/drones_4/', '/content/drones_6/']\n",
        "labels = ['0', '1']\n",
        "\n",
        "# Create an empty DataFrame\n",
        "df_drones = pd.DataFrame(columns=['Filename', 'Label'])\n",
        "\n",
        "# Iterate through the folders and files to populate the DataFrame\n",
        "for label, folder_path in zip(labels, folder_paths):\n",
        "    file_list = os.listdir(folder_path)\n",
        "    for filename in file_list:\n",
        "        # Construct the full file path\n",
        "        file_path = os.path.join(folder_path, filename)\n",
        "\n",
        "        # Append a new row to the DataFrame\n",
        "        df_drones = df_drones.append({'Filename': file_path, 'Label': label}, ignore_index=True)\n"
      ],
      "metadata": {
        "id": "KpG0HBJ3WTWg"
      },
      "execution_count": null,
      "outputs": []
    },
    {
      "cell_type": "code",
      "source": [
        "# Explore the dataframe we just created\n",
        "\n",
        "# print the DataFrame head\n",
        "print (df_drones.head())\n",
        "# print the DataFrame tail\n",
        "print (df_drones.tail())\n",
        "# print the dataframe shape\n",
        "print ()\n",
        "print ('Shape:', df_drones.shape)\n"
      ],
      "metadata": {
        "colab": {
          "base_uri": "https://localhost:8080/"
        },
        "id": "FhU8PNY9KEj0",
        "outputId": "e3939b3d-a948-4ca9-cd74-377625e6c9a5"
      },
      "execution_count": null,
      "outputs": [
        {
          "output_type": "stream",
          "name": "stdout",
          "text": [
            "                                       Filename Label\n",
            "0    /content/drones_4/DJI_FPV_Cloudy (325).jpg     0\n",
            "1  /content/drones_4/Dji_pantom_Sunny (803).jpg     0\n",
            "2  /content/drones_4/Dji_pantom_Sunny (423).jpg     0\n",
            "3            /content/drones_4/video19_1868.jpg     0\n",
            "4                     /content/drones_4/304.jpg     0\n",
            "                                         Filename Label\n",
            "1643   /content/drones_6/DJI_FPV_Sunny (1153).jpg     1\n",
            "1644            /content/drones_6/video16_156.jpg     1\n",
            "1645  /content/drones_6/DJI_FPV_Cloudy (1121).jpg     1\n",
            "1646   /content/drones_6/DJI_FPV_Cloudy (398).jpg     1\n",
            "1647    /content/drones_6/DJI_FPV_Sunny (339).jpg     1\n",
            "\n",
            "Shape: (1648, 2)\n"
          ]
        }
      ]
    },
    {
      "cell_type": "code",
      "source": [
        "# Additionaly the dataframe can be saved as a csv file.\n",
        "df_drones.to_csv('df_drones.csv', index = False)\n"
      ],
      "metadata": {
        "id": "gLCmBv8X2eYx"
      },
      "execution_count": null,
      "outputs": []
    },
    {
      "cell_type": "markdown",
      "metadata": {
        "id": "WSFS5kKmAjRS"
      },
      "source": [
        "# Step 4 - Build Classifier Model:\n",
        "\n",
        "   - Utilize the knowledge from previous homework (e.g., MNIST Fashion).\n",
        "   - Split the dataset into training and testing sets.\n",
        "   - Build a simple classifier model using TensorFlow/Keras.\n",
        "   - Train the model on the training set and evaluate it on the test set.\n"
      ]
    },
    {
      "cell_type": "code",
      "source": [
        "# Step 4 - How to present the data to Tensorflow\n",
        "#\n",
        "# 1 - Organize the dataset into directories according to class.\n",
        "#     Use ImageDataGenerator, from tensorflow.keras.preprocessing.image\n",
        "# 2 - you can make a dataframe that describes where your dataset resides, and then:\n",
        "#     Use the ImageDataGenerator class along with the flow_from_dataframe method\n"
      ],
      "metadata": {
        "id": "c2dvcm3azfww"
      },
      "execution_count": null,
      "outputs": []
    },
    {
      "cell_type": "code",
      "execution_count": null,
      "metadata": {
        "id": "aWoZJCrmAmeN"
      },
      "outputs": [],
      "source": [
        "# Organize the dataset into a directory structure.\n",
        "#\n",
        "#dataset/\n",
        "#├── class1/\n",
        "#│   ├── image1.jpg\n",
        "#│   ├── image2.jpg\n",
        "#│   └── ...\n",
        "#├── class2/\n",
        "#│   ├── image3.jpg\n",
        "#│   ├── image4.jpg\n",
        "#│   └── ...\n",
        "#└── ...\n",
        "\n",
        "# You define a train / validation split, like 0.2 (80/20)\n"
      ]
    },
    {
      "cell_type": "code",
      "source": [
        "# Step 4 - prapare dataset to load into keras\n",
        "#          prepare a train set and\n",
        "#          prepare a validation set\n",
        "\n",
        "#              load dataset into \"tensorflow.keras\" using \"flow_from_dataframe\".\n",
        "#                                                  split the dataset into 80/20.\n",
        "# ------------------------------------------------------------------------------\n",
        "from tensorflow.keras.preprocessing import image\n",
        "#                                               import keras ImageDataRenerator.\n",
        "from tensorflow.keras.preprocessing.image import ImageDataGenerator\n",
        "#                     read the dataframe (not needed if previous steps are run).\n",
        "#df_drones = pd.read_csv(\"/content/df_drones.csv\")\n",
        "#                                         create an ImageDataGenerator instance:\n",
        "datagen = ImageDataGenerator(\n",
        "    rescale         = 1./255,  # rescale pixel values to range [0, 1](normalize)\n",
        "    #shear_range    = 0.2,     #        shear transformations (for augmentation)\n",
        "    #zoom_range     = 0.2,     #         zoom transformations (for augmentation)\n",
        "    #horizontal_flip = True    #             horizontal flips (for augmentation)\n",
        ")\n",
        "# ------------------------------------------------------------------------------\n",
        "#                                            Use the flow_from_dataframe method.\n",
        "#                                   Specify the percentage for validation split.\n",
        "validation_split = 0.2\n",
        "#                                                            set the batch size.\n",
        "batch_size = 32\n",
        "\n",
        "img_size   = (28, 28)          #              this is the size de dataset is in.\n",
        "\n",
        "train_generator = datagen.flow_from_dataframe(\n",
        "    dataframe        = df_drones,\n",
        "    x_col            = 'Filename',\n",
        "    y_col            = 'Label',\n",
        "    target_size      = img_size,\n",
        "    batch_size       = batch_size,\n",
        "    class_mode       = 'binary',   #                   'categorical' or 'binary'\n",
        "    shuffle          = True,\n",
        "    validation_split = validation_split\n",
        ")\n",
        "\n",
        "# The validation generator will automatically use the remaining data\n",
        "validation_generator = datagen.flow_from_dataframe(\n",
        "    dataframe        = df_drones,\n",
        "    x_col            = 'Filename',\n",
        "    y_col            = 'Label',\n",
        "    target_size      = img_size,\n",
        "    batch_size       = batch_size,\n",
        "    class_mode       = 'binary',\n",
        "    shuffle          = True,\n",
        "    subset           = 'validation'\n",
        ")\n"
      ],
      "metadata": {
        "id": "mKRza4rM3usd",
        "colab": {
          "base_uri": "https://localhost:8080/"
        },
        "outputId": "dc11b35a-ce50-4345-bdb9-c260b9554475"
      },
      "execution_count": null,
      "outputs": [
        {
          "output_type": "stream",
          "name": "stdout",
          "text": [
            "Found 1648 validated image filenames belonging to 2 classes.\n",
            "Found 0 validated image filenames belonging to 2 classes.\n"
          ]
        }
      ]
    },
    {
      "cell_type": "code",
      "source": [
        "# Step 4 - sample visualization of the dataset\n",
        "\n",
        "# Load and display a few flattened images\n",
        "import matplotlib.pyplot as plt\n",
        "\n",
        "num_images_to_display = 5\n",
        "\n",
        "for i in range(num_images_to_display):\n",
        "    # Load an example image and flatten it\n",
        "    sample_image_path = df_drones['Filename'][i]\n",
        "#------------------------------------------------------------------------------\n",
        "    sample_image = image.load_img(sample_image_path, target_size=img_size)\n",
        "    sample_image = image.load_img(sample_image_path, color_mode = 'grayscale' ,target_size=img_size)\n",
        "#------------------------------------------------------------------------------\n",
        "    sample_image_array = image.img_to_array(sample_image)\n",
        "    flattened_image = sample_image_array.flatten()\n",
        "\n",
        "    # Reshape the flattened image back to its original shape\n",
        "    reshaped_image = flattened_image.reshape(img_size)\n",
        "\n",
        "    plt.subplot(num_images_to_display, 2, 2 * i + 2)\n",
        "    plt.imshow(reshaped_image, cmap='gray')  #              use 'gray' colormap.\n",
        "    plt.title(sample_image_path + ' - label: ' + df_drones['Label'][i])\n",
        "    plt.axis('off')\n",
        "\n",
        "plt.tight_layout()\n",
        "plt.show()\n"
      ],
      "metadata": {
        "colab": {
          "base_uri": "https://localhost:8080/",
          "height": 486
        },
        "id": "cMISearIY-K-",
        "outputId": "44fd19c2-699e-432a-a49b-c43d4df31cff"
      },
      "execution_count": null,
      "outputs": [
        {
          "output_type": "display_data",
          "data": {
            "text/plain": [
              "<Figure size 640x480 with 5 Axes>"
            ],
            "image/png": "[encoded data removed]"
          },
          "metadata": {}
        }
      ]
    },
    {
      "cell_type": "code",
      "source": [
        "# Step 4 - Build a simple classifier model using TensorFlow/Keras.\n",
        "\n",
        "from tensorflow.keras.models import Sequential\n",
        "from tensorflow.keras.layers import Conv2D, MaxPooling2D, Flatten, Dense\n",
        "\n",
        "# Define the model\n",
        "model = Sequential()\n",
        "\n",
        "# Convolutional layers\n",
        "model.add(Conv2D(32, (3, 3), activation='relu', input_shape=(28, 28, 3)))\n",
        "model.add(MaxPooling2D((2, 2)))\n",
        "\n",
        "model.add(Conv2D(64, (3, 3), activation='relu'))\n",
        "model.add(MaxPooling2D((2, 2)))\n",
        "\n",
        "model.add(Conv2D(128, (3, 3), activation='relu'))\n",
        "model.add(MaxPooling2D((2, 2)))\n",
        "\n",
        "# Flatten the output and add dense layers\n",
        "model.add(Flatten())\n",
        "model.add(Dense(128, activation='relu'))\n",
        "model.add(Dense(1, activation='sigmoid'))  # Sigmoid for binary classification\n",
        "\n",
        "# Compile the model\n",
        "model.compile(optimizer='adam', loss='binary_crossentropy', metrics=['accuracy'])\n",
        "\n",
        "# Display the model summary\n",
        "model.summary()\n"
      ],
      "metadata": {
        "colab": {
          "base_uri": "https://localhost:8080/"
        },
        "id": "7Xg5toywdt4n",
        "outputId": "0f6de9ac-563b-432b-c9fb-a2f529662aa3"
      },
      "execution_count": null,
      "outputs": [
        {
          "output_type": "stream",
          "name": "stdout",
          "text": [
            "Model: \"sequential_5\"\n",
            "_________________________________________________________________\n",
            " Layer (type)                Output Shape              Param #   \n",
            "=================================================================\n",
            " conv2d (Conv2D)             (None, 26, 26, 32)        896       \n",
            "                                                                 \n",
            " max_pooling2d (MaxPooling2  (None, 13, 13, 32)        0         \n",
            " D)                                                              \n",
            "                                                                 \n",
            " conv2d_1 (Conv2D)           (None, 11, 11, 64)        18496     \n",
            "                                                                 \n",
            " max_pooling2d_1 (MaxPoolin  (None, 5, 5, 64)          0         \n",
            " g2D)                                                            \n",
            "                                                                 \n",
            " conv2d_2 (Conv2D)           (None, 3, 3, 128)         73856     \n",
            "                                                                 \n",
            " max_pooling2d_2 (MaxPoolin  (None, 1, 1, 128)         0         \n",
            " g2D)                                                            \n",
            "                                                                 \n",
            " flatten (Flatten)           (None, 128)               0         \n",
            "                                                                 \n",
            " dense_11 (Dense)            (None, 128)               16512     \n",
            "                                                                 \n",
            " dense_12 (Dense)            (None, 1)                 129       \n",
            "                                                                 \n",
            "=================================================================\n",
            "Total params: 109889 (429.25 KB)\n",
            "Trainable params: 109889 (429.25 KB)\n",
            "Non-trainable params: 0 (0.00 Byte)\n",
            "_________________________________________________________________\n"
          ]
        }
      ]
    },
    {
      "cell_type": "code",
      "source": [
        "# Train the model\n",
        "\n",
        "history = model.fit(\n",
        "    train_generator,\n",
        "    steps_per_epoch=train_generator.samples // batch_size,\n",
        "    epochs=10,  # Adjust the number of epochs based on your dataset and convergence\n",
        "    validation_data=validation_generator,\n",
        "    validation_steps=validation_generator.samples // batch_size\n",
        ")\n"
      ],
      "metadata": {
        "colab": {
          "base_uri": "https://localhost:8080/"
        },
        "id": "MSe3k0ggmn6o",
        "outputId": "39970a72-abbd-4aae-9f87-cd035c74dbba"
      },
      "execution_count": null,
      "outputs": [
        {
          "output_type": "stream",
          "name": "stdout",
          "text": [
            "Epoch 1/10\n",
            "51/51 [==============================] - 4s 44ms/step - loss: 0.4073 - accuracy: 0.8459\n",
            "Epoch 2/10\n",
            "51/51 [==============================] - 3s 64ms/step - loss: 0.1517 - accuracy: 0.9585\n",
            "Epoch 3/10\n",
            "51/51 [==============================] - 2s 36ms/step - loss: 0.1094 - accuracy: 0.9666\n",
            "Epoch 4/10\n",
            "51/51 [==============================] - 2s 36ms/step - loss: 0.0888 - accuracy: 0.9697\n",
            "Epoch 5/10\n",
            "51/51 [==============================] - 2s 36ms/step - loss: 0.0747 - accuracy: 0.9734\n",
            "Epoch 6/10\n",
            "51/51 [==============================] - 2s 38ms/step - loss: 0.0856 - accuracy: 0.9722\n",
            "Epoch 7/10\n",
            "51/51 [==============================] - 3s 62ms/step - loss: 0.0652 - accuracy: 0.9802\n",
            "Epoch 8/10\n",
            "51/51 [==============================] - 2s 36ms/step - loss: 0.0542 - accuracy: 0.9814\n",
            "Epoch 9/10\n",
            "51/51 [==============================] - 2s 36ms/step - loss: 0.0481 - accuracy: 0.9851\n",
            "Epoch 10/10\n",
            "51/51 [==============================] - 2s 36ms/step - loss: 0.0438 - accuracy: 0.9882\n"
          ]
        }
      ]
    },
    {
      "cell_type": "code",
      "source": [
        "# After training, you can visualize the training history and make adjustments\n",
        "\n",
        "import matplotlib.pyplot as plt\n",
        "\n",
        "# Plot training history\n",
        "plt.plot(history.history['accuracy'], label='Training Accuracy')\n",
        "plt.plot(history.history['val_accuracy'], label='Validation Accuracy')\n",
        "plt.xlabel('Epochs')\n",
        "plt.ylabel('Accuracy')\n",
        "plt.legend()\n",
        "plt.show()\n"
      ],
      "metadata": {
        "colab": {
          "base_uri": "https://localhost:8080/",
          "height": 658
        },
        "id": "kSzNgXhYmyWC",
        "outputId": "9226960d-700a-4709-f5b8-4a33659bfcf9"
      },
      "execution_count": null,
      "outputs": [
        {
          "output_type": "error",
          "ename": "KeyError",
          "evalue": "ignored",
          "traceback": [
            "\u001b[0;31m---------------------------------------------------------------------------\u001b[0m",
            "\u001b[0;31mKeyError\u001b[0m                                  Traceback (most recent call last)",
            "\u001b[0;32m<ipython-input-31-e50f07c33aaf>\u001b[0m in \u001b[0;36m<cell line: 7>\u001b[0;34m()\u001b[0m\n\u001b[1;32m      5\u001b[0m \u001b[0;31m# Plot training history\u001b[0m\u001b[0;34m\u001b[0m\u001b[0;34m\u001b[0m\u001b[0m\n\u001b[1;32m      6\u001b[0m \u001b[0mplt\u001b[0m\u001b[0;34m.\u001b[0m\u001b[0mplot\u001b[0m\u001b[0;34m(\u001b[0m\u001b[0mhistory\u001b[0m\u001b[0;34m.\u001b[0m\u001b[0mhistory\u001b[0m\u001b[0;34m[\u001b[0m\u001b[0;34m'accuracy'\u001b[0m\u001b[0;34m]\u001b[0m\u001b[0;34m,\u001b[0m \u001b[0mlabel\u001b[0m\u001b[0;34m=\u001b[0m\u001b[0;34m'Training Accuracy'\u001b[0m\u001b[0;34m)\u001b[0m\u001b[0;34m\u001b[0m\u001b[0;34m\u001b[0m\u001b[0m\n\u001b[0;32m----> 7\u001b[0;31m \u001b[0mplt\u001b[0m\u001b[0;34m.\u001b[0m\u001b[0mplot\u001b[0m\u001b[0;34m(\u001b[0m\u001b[0mhistory\u001b[0m\u001b[0;34m.\u001b[0m\u001b[0mhistory\u001b[0m\u001b[0;34m[\u001b[0m\u001b[0;34m'val_accuracy'\u001b[0m\u001b[0;34m]\u001b[0m\u001b[0;34m,\u001b[0m \u001b[0mlabel\u001b[0m\u001b[0;34m=\u001b[0m\u001b[0;34m'Validation Accuracy'\u001b[0m\u001b[0;34m)\u001b[0m\u001b[0;34m\u001b[0m\u001b[0;34m\u001b[0m\u001b[0m\n\u001b[0m\u001b[1;32m      8\u001b[0m \u001b[0mplt\u001b[0m\u001b[0;34m.\u001b[0m\u001b[0mxlabel\u001b[0m\u001b[0;34m(\u001b[0m\u001b[0;34m'Epochs'\u001b[0m\u001b[0;34m)\u001b[0m\u001b[0;34m\u001b[0m\u001b[0;34m\u001b[0m\u001b[0m\n\u001b[1;32m      9\u001b[0m \u001b[0mplt\u001b[0m\u001b[0;34m.\u001b[0m\u001b[0mylabel\u001b[0m\u001b[0;34m(\u001b[0m\u001b[0;34m'Accuracy'\u001b[0m\u001b[0;34m)\u001b[0m\u001b[0;34m\u001b[0m\u001b[0;34m\u001b[0m\u001b[0m\n",
            "\u001b[0;31mKeyError\u001b[0m: 'val_accuracy'"
          ]
        },
        {
          "output_type": "display_data",
          "data": {
            "text/plain": [
              "<Figure size 640x480 with 1 Axes>"
            ],
            "image/png": "[encoded data removed]"
          },
          "metadata": {}
        }
      ]
    },
    {
      "cell_type": "markdown",
      "metadata": {
        "id": "NojDSFuUAmxk"
      },
      "source": [
        "Step 5 - Visualization and Analysis:\n",
        "   - Plot some images from the dataset to visually inspect the processed images.\n",
        "   - Display the accuracy of the trained model on the test set.\n",
        "   - Think about potential improvements or additional steps in the preprocessing and model building phases.\n"
      ]
    },
    {
      "cell_type": "code",
      "execution_count": null,
      "metadata": {
        "id": "I7atu_RnBLoi"
      },
      "outputs": [],
      "source": []
    },
    {
      "cell_type": "markdown",
      "metadata": {
        "id": "EaqLzdg0BL-Z"
      },
      "source": [
        "Questions to think about:\n",
        "\n",
        "Data Preprocessing:\n",
        "\n",
        "- Why is it good to convert images to black and white?\n",
        "\n",
        "*A color image will have exactly 3 times more features than the gray-scale image. Also gray-scale images are amost invariant to illumination changes (light color, light intensity, diffuse light, direct light, etc.) RGB images will have drastic changes under different lighting conditions. \"A blue drone, is also a drone, and a green camel is still a green camel\" (what differentiates a drone from a camel is not the color)*\n",
        "\n",
        "- How does resizing impact the training of machine learning models?\n",
        "\n",
        "*A big sized image (let's say 512 x 512) will have 250 K features which is too much for a NN. Small images, like 28 x 28 pixels, will have 784 features, which is a big number, but not impossible to manage.*\n",
        "\n",
        "TensorFlow Datasets and Model Building:\n",
        "\n",
        "- Why is it important to have consistent shapes and data types in TensorFlow datasets?\n",
        "\n",
        "*A tensorflow dataset with different number of features, or simply with different data types will simply be unable to learn meaningfuly.*\n",
        "\n",
        "- How does the choice of activation function impact the model's performance?\n",
        "\n",
        "*The choice of the activation function at each level in the model architecture is key to decide which neuron output should the propagated to the next level.*\n",
        "\n",
        "- What can be done to improve the model's accuracy?\n",
        "\n",
        "*1 - on one side: decisions regarding model architecture. This will impact in model accuracy and model performance (runtime speed).*\n",
        "*2 - on the other side: the quality of the training data: like quality of the labelling done (ground truths) and a selection of data that matches real-world conditions*\n",
        "*As an example of these:*\n",
        "*- bounding boxes larger or smaller than the actual object will impact in model preformance.*\n",
        "*- all traning data in which drones are always against a clear sky background, and \"no_drones\" as clear sky images, will result that:*\n",
        "*a - if a drone has a tree background it will not be detected (false negative)*\n",
        "*b - a bird against a clear sky will be detected as drone (false positive)*\n",
        "\n",
        "\n",
        "Tips:\n",
        "- Break down the problem into smaller steps and tackle each one iteratively.\n",
        "- Start by trying the preprocess on only one image, visualize the results and check the shape of the image, and then proceed and preprocess all the dataset.\n",
        "- Experiment with the images resolution, different activation functions, and different model’s architectures!\n",
        "\n",
        "This exercise combines practical coding skills with machine learning concepts, allowing you to apply your knowledge to real-world scenarios. Good luck and enjoy!\n"
      ]
    },
    {
      "cell_type": "code",
      "source": [
        "# some additonal code used to troubleshoot an issue in which 1 channel images\n",
        "# were being loaded as 3 channel images.\n",
        "# (keras image.load_img will by default load images as 3 channels\n",
        "# changing the number of fatures of the dataset from 28 x 28 = 784\n",
        "# to 2352 = 28 x 28 x 3 )\n",
        "\n",
        "# check number of channels of an image\n",
        "#\n",
        "from PIL import Image\n",
        "\n",
        "def get_number_of_channels(image_path):\n",
        "    # Open the image\n",
        "    with Image.open(image_path) as img:\n",
        "        # Get the number of channels\n",
        "        channels = img.getbands()\n",
        "        return channels\n",
        "\n",
        "# Example usage\n",
        "image_path = '/content/drones_6/119.jpg'\n",
        "\n",
        "channels = get_number_of_channels(image_path)\n",
        "\n",
        "print(f\"The image has {len(channels)} channel(s): {channels}\")\n"
      ],
      "metadata": {
        "colab": {
          "base_uri": "https://localhost:8080/"
        },
        "id": "-obKFFb_VxUc",
        "outputId": "9f22ba08-6b80-4333-e2ac-ea7f09227cec"
      },
      "execution_count": null,
      "outputs": [
        {
          "output_type": "stream",
          "name": "stdout",
          "text": [
            "The image has 1 channel(s): ('L',)\n"
          ]
        }
      ]
    }
  ],
  "metadata": {
    "colab": {
      "provenance": [],
      "authorship_tag": "ABX9TyM+3BCLKoabm5j8d5m/kVOr",
      "include_colab_link": true
    },
    "kernelspec": {
      "display_name": "Python 3",
      "name": "python3"
    },
    "language_info": {
      "name": "python"
    }
  },
  "nbformat": 4,
  "nbformat_minor": 0
}