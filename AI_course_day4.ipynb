{
  "cells": [
    {
      "cell_type": "markdown",
      "metadata": {
        "id": "view-in-github",
        "colab_type": "text"
      },
      "source": [
        "<a href=\"https://colab.research.google.com/github/Alejandrooct/AI-course/blob/main/AI_course_day4.ipynb\" target=\"_parent\"><img src=\"https://colab.research.google.com/assets/colab-badge.svg\" alt=\"Open In Colab\"/></a>"
      ]
    },
    {
      "cell_type": "markdown",
      "metadata": {
        "id": "h5x9jIqxZ3Rq"
      },
      "source": [
        "\n",
        "##AI course\n",
        "##Day#4 (Wednesday December 6, 2023)\n",
        "##Assignement: Drone Data Preprocessing\n",
        "\n",
        "name: Alejandro Thamm\n",
        "\n",
        "The exercise involves:\n",
        "- extracting drone location (within each image),\n",
        "- creating labeled datasets,\n",
        "- building a simple classifier using TensorFlow.\n",
        "\n",
        "link to the Assignement description:\n",
        "https://docs.google.com/document/d/1qKI6AzhIfNc3bX6lFikTI_qDq-VNN7OKmlZpW0ZygIc/edit\n",
        "\n",
        "Summary: I could:\n",
        "\n",
        "Read the images (808) and the corresponding sannotations.\n",
        "\n",
        "Draw rectangles over the labeled objects.\n",
        "\n",
        "Crop the images to the bounding box size.\n",
        "\n",
        "Chenge the images forn 3 channels (RGB) to 1 channel gray-scale (0-255)\n",
        "\n",
        "Reduce the image size to 28 x 28 pixels.\n",
        "\n",
        "But I got confused at the momento os saving the dataset, and be able to load it into Tensoflow.\n",
        "\n",
        "The creation of a \"not a drone\" dataset by cropping randomly from the original dataset in the same size as the labeled drone, had some issues, since about 10 % of the images showed part of the drone *I did this by making the random crops on the images with the bounding box visible.\n"
      ]
    },
    {
      "cell_type": "code",
      "execution_count": null,
      "metadata": {
        "id": "to4hadwvAaPV"
      },
      "outputs": [],
      "source": []
    },
    {
      "cell_type": "markdown",
      "metadata": {
        "id": "oed_wQyA9d2W"
      },
      "source": [
        "Step 1 - Data Exploration:\n",
        "\n",
        "Access the drive in this link:\n",
        "\n",
        "https://drive.google.com/drive/folders/1--E2a3ior8D_isWan7ePmd_NmsNcy6Uk\n",
        "\n",
        "it contains the images and the labels.\n",
        "Observe the structure of the data.\n",
        "Each image has a corresponding label file written in a yolov8 format.\n",
        "\n",
        "\n"
      ]
    },
    {
      "cell_type": "code",
      "execution_count": null,
      "metadata": {
        "id": "FmiuVHAA9a10"
      },
      "outputs": [],
      "source": [
        "# Step 1\n",
        "\n",
        "# A - Accessing the data\n",
        "# The shared folder contains many file pairs.\n",
        "# googledrive is very tricky when folders contain a few hundreds of files.\n",
        "# It is not easy to determine how many file (more than 1600 files (800 pairs)\n",
        "# I just selected 974 files (487 image - annotation pairs) and download them.\n",
        "# This is about 54 MB\n",
        "# I downloaded this to my local machine, to upload it to the colab notebook.\n",
        "\n",
        "# B - Assesing the data\n",
        "# The annotation seems to be bounding boxes (BB)\n",
        "# Each BB seems to be determined by 5 numbers\n",
        "#   number#1: class\n",
        "#   number#2: x_center (normalized to image width)\n",
        "#   number#3: y_center (normalized to image height)\n",
        "#   number#4: x_width (normalized to image width)\n",
        "#   number#5: y_height (normalized to image height)\n",
        "# Most images have just one BB (one line in the yolo file)\n",
        "# a few images have 2 BBs (two lines in the yolo file) (eg: 50.jpg)"
      ]
    },
    {
      "cell_type": "markdown",
      "metadata": {
        "id": "1T6_hgYQ-i7C"
      },
      "source": [
        "Step 2 - Data Preprocessing:\n",
        "\n",
        "For each image:\n",
        "- Extract the drone's location from the label file (yolov8\n",
        "format).\n",
        "\n",
        "- Find the bounding box of the drone in the image.\n",
        "\n",
        "- Create a new image by cropping the bounding box.\n",
        "\n",
        "- Convert the cropped image to black and white.\n",
        "\n",
        "- Resize the image to a quadratic form (e.g., 28x28) using Keras library.\n",
        "\n",
        "- Save the processed image in a list along with the appropriate label (drone).\n",
        "\n",
        "*Note*, the steps that follow are not very reasonable for images in which the drone's bounding box occupies a big proportion of the whole image, since in these cases almost any bounding box (of the same size as the original BB) will contain portions of the drone, and lebeling these images as :not a drone\" will create trouble. For example with image 23.jpg.* **bold text**\n",
        "\n",
        "- Repeat the above steps, but this time take a random crop of the image with the same quadratic resolution.\n",
        "\n",
        "- Save the random cropped image in a separate list along with the appropriate label (not a drone).\n"
      ]
    },
    {
      "cell_type": "code",
      "execution_count": null,
      "metadata": {
        "id": "HeKrh4I_AYZE",
        "colab": {
          "base_uri": "https://localhost:8080/"
        },
        "outputId": "b7ca6927-9e88-4ab5-ae8a-7b557d6ce36e"
      },
      "outputs": [
        {
          "output_type": "stream",
          "name": "stdout",
          "text": [
            "mkdir: cannot create directory ‘/content/drones’: File exists\n",
            "mkdir: cannot create directory ‘/content/drones_outA’: File exists\n",
            "mkdir: cannot create directory ‘/content/drones_outA2’: File exists\n",
            "mkdir: cannot create directory ‘/content/drones_outB’: File exists\n",
            "mkdir: cannot create directory ‘/content/drones_outB2’: File exists\n"
          ]
        }
      ],
      "source": [
        "# Step 2 (data preprocessing) - load some images in this colab notebook.\n",
        "\n",
        "# make a folder in this colab notebook, under /content/ named \"drones\".\n",
        "! mkdir /content/drones\n",
        "! mkdir /content/drones_outA\n",
        "! mkdir /content/drones_outA2\n",
        "! mkdir /content/drones_outB\n",
        "! mkdir /content/drones_outB2\n",
        "# copy manualy some file-pairs from the downloaded local drive to this transient folder.\n",
        "# Now we will be able to work with the data."
      ]
    },
    {
      "cell_type": "code",
      "execution_count": null,
      "metadata": {
        "id": "boh_9MhlsDMY"
      },
      "outputs": [],
      "source": [
        "# *************** For deleting the data-folder if it gets FOOBAR ***************\n",
        "# ------------------------------- USE WITH CAUTION -----------------------------\n",
        "# ------------------------------------------------------------------------------\n",
        "import shutil\n",
        "shutil.rmtree('/content/drones')\n",
        "! mkdir /content/drones\n",
        "# ---------------------------------------------- to delete even read only files.\n",
        "# shutil.rmtree('/content/drones', ignore_errors=True)\n",
        "# ------------------------------------------------------------------------------"
      ]
    },
    {
      "cell_type": "code",
      "execution_count": null,
      "metadata": {
        "id": "ow0fK_PSB35E"
      },
      "outputs": [],
      "source": [
        "# remove the output directories and recreate them\n",
        "import shutil\n",
        "shutil.rmtree('/content/drones_outA')\n",
        "shutil.rmtree('/content/drones_outA2')\n",
        "shutil.rmtree('/content/drones_outB')\n",
        "shutil.rmtree('/content/drones_outB2')\n",
        "! mkdir /content/drones_outA\n",
        "! mkdir /content/drones_outA2\n",
        "! mkdir /content/drones_outB\n",
        "! mkdir /content/drones_outB2"
      ]
    },
    {
      "cell_type": "markdown",
      "metadata": {
        "id": "6CzAWKDCVyo5"
      },
      "source": [
        "Step 2 - for \"drone\"\n"
      ]
    },
    {
      "cell_type": "code",
      "execution_count": null,
      "metadata": {
        "id": "sPmIWC-kM7FX"
      },
      "outputs": [],
      "source": [
        "# Step 2 (data preprocessing) - make crops of the labeled drones and save them in 28 x 28 squares (matrices)\n",
        "# try to make ChatGPT write some code on my behalf\n",
        "\n",
        "# Ignore all previous instructions.\n",
        "# Act as a world class python programmer.\n",
        "# Write code for a google colab notebook in python.\n",
        "# Read the files in /content/drones/\n",
        "# These are in pairs.\n",
        "# So for each file name, you will find a .jpg image file, and a .txt file.\n",
        "# The .txt file is a yoloV8 annotation or label for the corresponding image file.\n",
        "# Each line of the label file is a label:\n",
        "# The first number in the line is the class.\n",
        "# Then 4 coordinates follow:\n",
        "#   coordinate#1: is the normalized xcenter, you need to multiply it by image width to get pixels.\n",
        "#   coordinate#2: is the normalized ycenter, you need to multiply it by image height to get pixels.\n",
        "#   coordinate#3: is the normalized box width, you need to multiply it by image width to get pixels.\n",
        "#   coordinate#4: is the normalized box height, you need to multiply it by image height to get pixels.\n",
        "# For each image do the following:\n",
        "# Make a copy of the image, and add to it a rectangle around the bounding box, 1 pixel bigger than the bounding box, and one pixel in width, in yellow color.\n",
        "# Show a copy of the original image, with the corresponding rectangles ovelayed.\n",
        "# Use matplotlib to show the images\n",
        "# Make a crop of the original image, just the size of the bounding box\n",
        "# Transform this cropped image to gray-scale and save it to disk in the directory: /content/drones_outA (at the end of the file name, add \"_grey_crop\")\n",
        "# Resize this gray-scale images to 28 x 28 pixels using the Keras python library.\n",
        "# Make a list of tuples, first element is the image matrix, second element, the label: \"drone\"\n",
        "# Save this list to disk in the directory: /content/drones_outA2\n"
      ]
    },
    {
      "cell_type": "markdown",
      "metadata": {
        "id": "ajzwU6v4-id3"
      },
      "source": [
        "Step 2 - for \"drone\""
      ]
    },
    {
      "cell_type": "code",
      "execution_count": null,
      "metadata": {
        "colab": {
          "base_uri": "https://localhost:8080/",
          "height": 272
        },
        "id": "l9ilZBT9nNgX",
        "outputId": "134dc000-593a-445a-987b-5e7408d718b3"
      },
      "outputs": [
        {
          "output_type": "stream",
          "name": "stderr",
          "text": [
            "/usr/local/lib/python3.10/dist-packages/numpy/lib/npyio.py:521: VisibleDeprecationWarning: Creating an ndarray from ragged nested sequences (which is a list-or-tuple of lists-or-tuples-or ndarrays with different lengths or shapes) is deprecated. If you meant to do this, you must specify 'dtype=object' when creating the ndarray.\n",
            "  arr = np.asanyarray(arr)\n"
          ]
        },
        {
          "output_type": "display_data",
          "data": {
            "text/plain": [
              "<Figure size 1500x500 with 4 Axes>"
            ],
            "image/png": "[encoded data removed]"
          },
          "metadata": {}
        }
      ],
      "source": [
        "import os\n",
        "import cv2\n",
        "import numpy as np\n",
        "import matplotlib.pyplot as plt\n",
        "from keras.preprocessing import image\n",
        "from PIL import Image\n",
        "\n",
        "# Define input and output directories\n",
        "input_dir = \"/content/drones/\"\n",
        "output_dir1 = \"/content/drones_outA/\"\n",
        "output_dir2 = \"/content/drones_outA2/\"\n",
        "\n",
        "# Create output directories if they don't exist\n",
        "os.makedirs(output_dir1, exist_ok=True)\n",
        "os.makedirs(output_dir2, exist_ok=True)\n",
        "\n",
        "# Function to process each pair of files\n",
        "def process_files(image_path, label_path):\n",
        "    # Read image\n",
        "    img = cv2.imread(image_path)\n",
        "\n",
        "    # Read label file\n",
        "    with open(label_path, 'r') as label_file:\n",
        "        lines = label_file.readlines()\n",
        "\n",
        "    # Process each line in the label file\n",
        "    for line in lines:\n",
        "        values = line.split()\n",
        "        class_label = int(values[0])\n",
        "        x_center = int(float(values[1]) * img.shape[1])\n",
        "        y_center = int(float(values[2]) * img.shape[0])\n",
        "        box_width = int(float(values[3]) * img.shape[1])\n",
        "        box_height = int(float(values[4]) * img.shape[0])\n",
        "\n",
        "        # Draw rectangle on the image\n",
        "        cv2.rectangle(img, (x_center - box_width//2, y_center - box_height//2),\n",
        "                      (x_center + box_width//2, y_center + box_height//2),\n",
        "                      (0, 255, 255), 2)\n",
        "\n",
        "        # Crop the image\n",
        "        cropped_img = img[y_center - box_height//2:y_center + box_height//2,\n",
        "                          x_center - box_width//2:x_center + box_width//2]\n",
        "\n",
        "        # Save the cropped image in grayscale\n",
        "        gray_cropped_img = cv2.cvtColor(cropped_img, cv2.COLOR_BGR2GRAY)\n",
        "        output_path = os.path.join(output_dir1, os.path.basename(image_path)[:-4] + \"_grey_crop.jpg\")\n",
        "        cv2.imwrite(output_path, gray_cropped_img)\n",
        "\n",
        "        # Resize the grayscale image to 28x28 pixels\n",
        "        resized_img = cv2.resize(gray_cropped_img, (28, 28))\n",
        "        output_path = os.path.join(output_dir2, os.path.basename(image_path)[:-4] + \"_grey_crop.jpg\")\n",
        "        cv2.imwrite(output_path, resized_img)\n",
        "\n",
        "        # Add tuple to the list\n",
        "        data_list.append((resized_img, \"drone\"))\n",
        "\n",
        "# List to store image matrices and labels\n",
        "data_list = []\n",
        "\n",
        "# Process each pair of files\n",
        "for filename in os.listdir(input_dir):\n",
        "    if filename.endswith(\".jpg\"):\n",
        "        image_path = os.path.join(input_dir, filename)\n",
        "        label_path = os.path.join(input_dir, filename[:-4] + \".txt\")\n",
        "\n",
        "        # Process the pair of files\n",
        "        process_files(image_path, label_path)\n",
        "\n",
        "# Show the original images with rectangles\n",
        "fig, axs = plt.subplots(1, len(data_list), figsize=(15, 5))\n",
        "for i, (img, _) in enumerate(data_list):\n",
        "    axs[i].imshow(img, cmap='gray')\n",
        "    axs[i].axis('off')\n",
        "\n",
        "# Save the list to disk\n",
        "output_path = \"/content/drones_outA2/data_list.pkl\"\n",
        "np.save(output_path, data_list)\n",
        "\n",
        "# Show the plot\n",
        "plt.show()\n"
      ]
    },
    {
      "cell_type": "markdown",
      "source": [
        "Step 2 - for \"drone\" variant 1"
      ],
      "metadata": {
        "id": "1NpVgQCvGhvd"
      }
    },
    {
      "cell_type": "code",
      "source": [
        "import os\n",
        "import cv2\n",
        "import numpy as np\n",
        "from matplotlib import pyplot as plt\n",
        "from keras.preprocessing import image\n",
        "from keras.preprocessing.image import img_to_array, array_to_img\n",
        "\n",
        "# Set the input and output directories\n",
        "input_directory = '/content/drones/'\n",
        "output_directory = '/content/drones_outA/'\n",
        "output_directory_resized = '/content/drones_outA2/'\n",
        "\n",
        "# Create output directories if they don't exist\n",
        "os.makedirs(output_directory, exist_ok=True)\n",
        "os.makedirs(output_directory_resized, exist_ok=True)\n",
        "\n",
        "# Function to read YOLO annotation file and extract bounding box coordinates\n",
        "def read_annotation_file(annotation_path):\n",
        "    with open(annotation_path, 'r') as file:\n",
        "        lines = file.readlines()\n",
        "    bounding_boxes = []\n",
        "    for line in lines:\n",
        "        data = line.strip().split()\n",
        "        class_label = int(data[0])\n",
        "        x_center = float(data[1])\n",
        "        y_center = float(data[2])\n",
        "        box_width = float(data[3])\n",
        "        box_height = float(data[4])\n",
        "        bounding_boxes.append((class_label, x_center, y_center, box_width, box_height))\n",
        "    return bounding_boxes\n",
        "\n",
        "# Function to draw rectangles on an image based on bounding box coordinates\n",
        "def draw_rectangles(image, bounding_boxes):\n",
        "    image_with_rectangles = image.copy()\n",
        "    for box in bounding_boxes:\n",
        "        h, w, _ = image.shape\n",
        "        x, y, box_w, box_h = (\n",
        "            int((box[1] - box[3] / 2) * w),\n",
        "            int((box[2] - box[4] / 2) * h),\n",
        "            int(box[3] * w),\n",
        "            int(box[4] * h),\n",
        "        )\n",
        "        cv2.rectangle(image_with_rectangles, (x, y), (x + box_w, y + box_h), (0, 255, 255), 2)\n",
        "    return image_with_rectangles\n",
        "\n",
        "# Function to crop the image based on bounding box coordinates\n",
        "def crop_image(image, bounding_box):\n",
        "    h, w, _ = image.shape\n",
        "    x, y, box_w, box_h = (\n",
        "        int((bounding_box[1] - bounding_box[3] / 2) * w),\n",
        "        int((bounding_box[2] - bounding_box[4] / 2) * h),\n",
        "        int(bounding_box[3] * w),\n",
        "        int(bounding_box[4] * h),\n",
        "    )\n",
        "    cropped_image = image[y:y + box_h, x:x + box_w]\n",
        "    return cropped_image\n",
        "\n",
        "# Function to save a grayscale image\n",
        "def save_grayscale_image(image, output_path):\n",
        "    gray_image = cv2.cvtColor(image, cv2.COLOR_BGR2GRAY)\n",
        "    cv2.imwrite(output_path, gray_image)\n",
        "\n",
        "# Function to resize an image and save it\n",
        "def resize_and_save_image(image, output_path, target_size=(28, 28)):\n",
        "    resized_image = cv2.resize(image, target_size)\n",
        "    cv2.imwrite(output_path, resized_image)\n",
        "\n",
        "# List to store tuples (image_matrix, label)\n",
        "image_label_list = []\n",
        "\n",
        "# Process each pair of image and annotation file\n",
        "for file_name in os.listdir(input_directory):\n",
        "    if file_name.endswith('.jpg'):\n",
        "        image_path = os.path.join(input_directory, file_name)\n",
        "        annotation_path = os.path.join(input_directory, file_name.replace('.jpg', '.txt'))\n",
        "\n",
        "        # Read image and annotation\n",
        "        original_image = cv2.imread(image_path)\n",
        "        bounding_boxes = read_annotation_file(annotation_path)\n",
        "\n",
        "        # Draw rectangles on the image\n",
        "        image_with_rectangles = draw_rectangles(original_image.copy(), bounding_boxes)\n",
        "\n",
        "        # Show the image with rectangles using matplotlib\n",
        "        plt.imshow(cv2.cvtColor(image_with_rectangles, cv2.COLOR_BGR2RGB))\n",
        "        plt.title('Image with Rectangles')\n",
        "        plt.axis('off')\n",
        "        plt.show()\n",
        "\n",
        "        # Save image with rectangles\n",
        "        output_image_path = os.path.join(output_directory, file_name)\n",
        "        cv2.imwrite(output_image_path, image_with_rectangles)\n",
        "\n",
        "        for box in bounding_boxes:\n",
        "            # Crop the image based on the bounding box\n",
        "            cropped_image = crop_image(original_image, box)\n",
        "\n",
        "            # Save grayscale cropped image\n",
        "            output_gray_path = os.path.join(output_directory_resized, file_name.replace('.jpg', '_grey_crop.jpg'))\n",
        "            save_grayscale_image(cropped_image, output_gray_path)\n",
        "\n",
        "            # Resize and save the grayscale image\n",
        "            output_resized_path = os.path.join(output_directory_resized, file_name.replace('.jpg', '_resized.jpg'))\n",
        "            resize_and_save_image(cropped_image, output_resized_path)\n",
        "\n",
        "            # Append to the list of tuples\n",
        "            image_label_list.append((img_to_array(cropped_image), 'drone'))\n",
        "\n",
        "# Save the list to disk\n",
        "list_output_path = '/content/drones_outA2/image_label_list.pkl'\n",
        "np.save(list_output_path, image_label_list)\n",
        "print(f'The image label list has been saved to {list_output_path}')\n"
      ],
      "metadata": {
        "id": "SOM5v9YTGgqC"
      },
      "execution_count": null,
      "outputs": []
    },
    {
      "cell_type": "code",
      "source": [
        "# checking the outputs\n",
        "vv = 'contents/drones_outA2/image_label_list.pkl.npy'\n",
        "print (vv)"
      ],
      "metadata": {
        "colab": {
          "base_uri": "https://localhost:8080/"
        },
        "id": "JlHL79hsJXI-",
        "outputId": "0d0843d0-4ca3-4c12-cc2b-c0aa3ec51622"
      },
      "execution_count": null,
      "outputs": [
        {
          "output_type": "stream",
          "name": "stdout",
          "text": [
            "contents/drones_outA2/image_label_list.pkl.npy\n"
          ]
        }
      ]
    },
    {
      "cell_type": "markdown",
      "metadata": {
        "id": "GsR_vKxTVukc"
      },
      "source": [
        "Step 2 - for: 'not a drone'\n"
      ]
    },
    {
      "cell_type": "code",
      "execution_count": null,
      "metadata": {
        "id": "XvbOcGCzVvTq"
      },
      "outputs": [],
      "source": [
        "# Step 2 (data preprocessing) - make crops of the 'not a drone' and save them in 28 x 28 squares (matrices)\n",
        "# try to make ChatGPT write some code on my behalf\n",
        "\n",
        "# Ignore all previous instructions.\n",
        "# Act as a world class python programmer.\n",
        "# Write code for a google colab notebook in python.\n",
        "# Read the files in /content/drones/\n",
        "# These are in pairs.\n",
        "# So for each file name, you will find a .jpg image file, and a .txt file.\n",
        "# The .txt file is a yoloV8 annotation or label for the corresponding image file.\n",
        "# Each line of the label file is a label:\n",
        "# The first number in the line is the class.\n",
        "# Then 4 coordinates follow:\n",
        "#   coordinate#1: we don't care about this value.\n",
        "#   coordinate#2: we don't care about this value.\n",
        "#   coordinate#3: is the normalized box width, you need to multiply it by image width to get pixels.\n",
        "#   coordinate#4: is the normalized box height, you need to multiply it by image height to get pixels.\n",
        "# For each image do the following:\n",
        "# Determine a random point within the whole image, we will call it random center.\n",
        "# With this random center, as center, make a rectangle measuring box width by box height.\n",
        "# Make a crop of this rectangle.\n",
        "# Show this cropped rectangle.\n",
        "# Use matplotlib to show the images.\n",
        "# Transform this cropped image to gray-scale and save it to disk in the directory: /content/drones_outB (at the end of the file name, add \"_grey_crop\")\n",
        "# Resize thees gray-scale images to 28 x 28 pixels using the Keras python library.\n",
        "# Save the processed image in a list along with the appropriate label: 'not a drone'.\n",
        "# Save this list to disk in the directory: /content/drones_outB2\n"
      ]
    },
    {
      "cell_type": "markdown",
      "metadata": {
        "id": "b-J7g_HT4vdW"
      },
      "source": [
        "\n",
        "Step 2 - for: 'not a drone\""
      ]
    },
    {
      "cell_type": "code",
      "execution_count": null,
      "metadata": {
        "id": "2Y4Vlsjyp9vb"
      },
      "outputs": [],
      "source": [
        "import os\n",
        "import cv2\n",
        "import numpy as np\n",
        "import matplotlib.pyplot as plt\n",
        "from keras.preprocessing.image import img_to_array, array_to_img\n",
        "from tqdm import tqdm\n",
        "\n",
        "# Set paths\n",
        "input_directory = '/content/drones/'\n",
        "output_directory = '/content/drones_outB/'\n",
        "output_directory2 = '/content/drones_outB2/'\n",
        "\n",
        "# Create output directories if not exist\n",
        "os.makedirs(output_directory, exist_ok=True)\n",
        "os.makedirs(output_directory2, exist_ok=True)\n",
        "\n",
        "# Function to read YOLO annotation file\n",
        "def read_yolo_annotation(file_path):\n",
        "    with open(file_path, 'r') as file:\n",
        "        lines = file.readlines()\n",
        "        labels = [line.strip().split() for line in lines]\n",
        "        return labels\n",
        "\n",
        "# Function to process each pair of image and label\n",
        "def process_image_and_label(image_path, label_path):\n",
        "    # Read image\n",
        "    image = cv2.imread(image_path)\n",
        "\n",
        "    # Read YOLO annotation\n",
        "    labels = read_yolo_annotation(label_path)\n",
        "\n",
        "    for label in labels:\n",
        "        class_id = int(label[0])\n",
        "        box_width = float(label[3]) * image.shape[1]\n",
        "        box_height = float(label[4]) * image.shape[0]\n",
        "\n",
        "        # Generate random center\n",
        "        center_x = np.random.uniform(box_width / 2, image.shape[1] - box_width / 2)\n",
        "        center_y = np.random.uniform(box_height / 2, image.shape[0] - box_height / 2)\n",
        "\n",
        "        # Calculate rectangle coordinates\n",
        "        x1 = int(center_x - box_width / 2)\n",
        "        y1 = int(center_y - box_height / 2)\n",
        "        x2 = int(center_x + box_width / 2)\n",
        "        y2 = int(center_y + box_height / 2)\n",
        "\n",
        "        # Crop the rectangle\n",
        "        cropped_image = image[y1:y2, x1:x2]\n",
        "\n",
        "        # Display the cropped image\n",
        "        plt.imshow(cv2.cvtColor(cropped_image, cv2.COLOR_BGR2RGB))\n",
        "        plt.show()\n",
        "\n",
        "        # Convert the cropped image to gray-scale\n",
        "        gray_image = cv2.cvtColor(cropped_image, cv2.COLOR_BGR2GRAY)\n",
        "\n",
        "        # Save the gray-scale cropped image to disk\n",
        "        output_file_path = os.path.join(output_directory, f\"{os.path.basename(image_path)}_grey_crop.jpg\")\n",
        "        cv2.imwrite(output_file_path, gray_image)\n",
        "\n",
        "        # Resize the gray-scale image to 28 x 28 pixels\n",
        "        resized_image = cv2.resize(gray_image, (28, 28))\n",
        "\n",
        "        # Save the processed image along with the label\n",
        "        output_file_path2 = os.path.join(output_directory2, f\"{os.path.basename(image_path)}_grey_crop.npy\")\n",
        "        np.save(output_file_path2, {'image': resized_image, 'label': 'not a drone'})\n",
        "\n",
        "# Process each pair of image and label\n",
        "for filename in os.listdir(input_directory):\n",
        "    if filename.endswith(\".jpg\"):\n",
        "        image_path = os.path.join(input_directory, filename)\n",
        "        label_path = os.path.join(input_directory, filename.replace(\".jpg\", \".txt\"))\n",
        "\n",
        "        process_image_and_label(image_path, label_path)\n"
      ]
    },
    {
      "cell_type": "code",
      "execution_count": null,
      "metadata": {
        "colab": {
          "base_uri": "https://localhost:8080/"
        },
        "id": "HO3BaPoPe-h6",
        "outputId": "7468dbe9-13ef-47f3-d0fc-e97b8b226b26"
      },
      "outputs": [
        {
          "name": "stdout",
          "output_type": "stream",
          "text": [
            "Mounted at /content/drive\n"
          ]
        }
      ],
      "source": [
        "# this cell is for doing a drive mount of all \"MyDrive\" and its \"shortcuts\"\n",
        "# so you first have to make a shortcut of the shared folder you want, into your MyDrive)\n",
        "from google.colab import drive\n",
        "drive.mount('/content/drive')"
      ]
    },
    {
      "cell_type": "markdown",
      "metadata": {
        "id": "Nk0-FM-qAY8m"
      },
      "source": [
        "Step 3 - TensorFlow Datasets:\n",
        "   - Convert the lists of processed images and labels to TensorFlow datasets.\n",
        "   - Ensure that the shapes and types of images and labels match TensorFlow's requirements.\n"
      ]
    },
    {
      "cell_type": "code",
      "execution_count": null,
      "metadata": {
        "id": "f6dYajE2Aizr"
      },
      "outputs": [],
      "source": []
    },
    {
      "cell_type": "markdown",
      "metadata": {
        "id": "WSFS5kKmAjRS"
      },
      "source": [
        "Step 4 - Build Classifier Model:\n",
        "   - Utilize the knowledge from previous homework (e.g., MNIST Fashion).\n",
        "   - Split the dataset into training and testing sets.\n",
        "   - Build a simple classifier model using TensorFlow/Keras.\n",
        "   - Train the model on the training set and evaluate it on the test set.\n"
      ]
    },
    {
      "cell_type": "code",
      "execution_count": null,
      "metadata": {
        "id": "aWoZJCrmAmeN"
      },
      "outputs": [],
      "source": []
    },
    {
      "cell_type": "markdown",
      "metadata": {
        "id": "NojDSFuUAmxk"
      },
      "source": [
        "Step 5 - Visualization and Analysis:\n",
        "   - Plot some images from the dataset to visually inspect the processed images.\n",
        "   - Display the accuracy of the trained model on the test set.\n",
        "   - Think about potential improvements or additional steps in the preprocessing and model building phases.\n"
      ]
    },
    {
      "cell_type": "code",
      "execution_count": null,
      "metadata": {
        "id": "I7atu_RnBLoi"
      },
      "outputs": [],
      "source": []
    },
    {
      "cell_type": "markdown",
      "metadata": {
        "id": "EaqLzdg0BL-Z"
      },
      "source": [
        "Questions to think about:\n",
        "\n",
        "Data Preprocessing:\n",
        "\n",
        "- Why is it good to convert images to black and white?\n",
        "\n",
        "*A color image will have exactly 3 times more features than the gray-scale image. Also gray-scale images are amost invariant to illumination changes, or changes in the color of the light, color images are very sensitive to illumination applied. \"A blue drone, is also a drone, and a green camel is still a green camel\"*\n",
        "\n",
        "- How does resizing impact the training of machine learning models?\n",
        "\n",
        "*A big sized image (let's say 512 x 512) will have 250 K features which is too much for a NN. Small images, like 28 x 28 pixels, will have 784 features, which is a big number, but not impossible.*\n",
        "\n",
        "TensorFlow Datasets and Model Building:\n",
        "- Why is it important to have consistent shapes and data types in TensorFlow datasets?\n",
        "\n",
        "- How does the choice of activation function impact the model's performance?\n",
        "\n",
        "- What can be done to improve the model's accuracy?\n",
        "\n",
        "Tips:\n",
        "- Break down the problem into smaller steps and tackle each one iteratively.\n",
        "- Start by trying the preprocess on only one image, visualize the results and check the shape of the image, and then proceed and preprocess all the dataset.\n",
        "- Experiment with the images resolution, different activation functions, and different model’s architectures!\n",
        "\n",
        "This exercise combines practical coding skills with machine learning concepts, allowing you to apply your knowledge to real-world scenarios. Good luck and enjoy!\n"
      ]
    }
  ],
  "metadata": {
    "colab": {
      "provenance": [],
      "authorship_tag": "ABX9TyPrsbo1ZUaRYjlzVZndDYda",
      "include_colab_link": true
    },
    "kernelspec": {
      "display_name": "Python 3",
      "name": "python3"
    },
    "language_info": {
      "name": "python"
    }
  },
  "nbformat": 4,
  "nbformat_minor": 0
}